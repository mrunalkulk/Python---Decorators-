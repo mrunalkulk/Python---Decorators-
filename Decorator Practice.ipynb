{
 "cells": [
  {
   "cell_type": "markdown",
   "metadata": {},
   "source": [
    "# Decorators 1st part 2nd part altenatives last basic decorator"
   ]
  },
  {
   "cell_type": "markdown",
   "metadata": {},
   "source": [
    "Decorator Implemented:\n",
    "    \n",
    "    SMU cat --  passes a variable needed for whole code\n",
    "    SMU passes --  a function needed to execute after deciding which part of code is to get printed \n",
    "    \n",
    "    Rest of the code is straight\n",
    "    "
   ]
  },
  {
   "cell_type": "code",
   "execution_count": 7,
   "metadata": {},
   "outputs": [],
   "source": [
    "def SMUCat(name):\n",
    "    def SMU(original_func):\n",
    "\n",
    "        def LyleSchool(name='Technology'):\n",
    "            print('This is a an engineering school')\n",
    "\n",
    "        def Perkins(name='Theology'):\n",
    "            print('Perkins school of theology')\n",
    "\n",
    "        def noneed():\n",
    "            print('No loop was needed')\n",
    "\n",
    "        if name == 'Technology':\n",
    "            original_func()\n",
    "            return LyleSchool\n",
    "        elif name == 'Theology': \n",
    "            original_func()\n",
    "            return Perkins\n",
    "        else:\n",
    "            original_func()\n",
    "            return noneed\n",
    "    return SMU"
   ]
  },
  {
   "cell_type": "markdown",
   "metadata": {},
   "source": [
    "For Technology type print the part under Lyle School Decorator used"
   ]
  },
  {
   "cell_type": "code",
   "execution_count": 8,
   "metadata": {},
   "outputs": [
    {
     "name": "stdout",
     "output_type": "stream",
     "text": [
      "This gets printed if we want technlogy from SMU, Stating Fondren as Main\n",
      "This is a an engineering school\n"
     ]
    }
   ],
   "source": [
    "@SMUCat('Technology')\n",
    "\n",
    "def Technical_Library_decorator():\n",
    "    print('This gets printed if we want technlogy from SMU, Stating Fondren as Main')\n",
    "\n",
    "Technical_Library_decorator()\n",
    "\n",
    "\n"
   ]
  },
  {
   "cell_type": "code",
   "execution_count": 283,
   "metadata": {},
   "outputs": [
    {
     "name": "stdout",
     "output_type": "stream",
     "text": [
      "Bridwell is Theology Library\n",
      "Perkins school of theology\n"
     ]
    }
   ],
   "source": [
    "@SMUCat('Theology')\n",
    "\n",
    "def bridwell_needs_decorator():\n",
    "    print('Bridwell is Theology Library')\n",
    "\n",
    "bridwell_needs_decorator()"
   ]
  },
  {
   "cell_type": "code",
   "execution_count": 284,
   "metadata": {},
   "outputs": [
    {
     "name": "stdout",
     "output_type": "stream",
     "text": [
      "No Library is selected go infront of dallas hall\n",
      "No loop was needed\n"
     ]
    }
   ],
   "source": [
    "@SMUCat('')    \n",
    "def nothing_selected_decorator():\n",
    "    print('No Library is selected go infront of dallas hall')\n",
    "\n",
    "nothing_selected_decorator()"
   ]
  },
  {
   "cell_type": "markdown",
   "metadata": {},
   "source": [
    "# General way: Before using Decorators We had to write each and every function needing a decoration and execute it as following in that case SMUCAT function would not be there just SMU and two variables will be passed name and orgin_func"
   ]
  },
  {
   "cell_type": "code",
   "execution_count": 1,
   "metadata": {},
   "outputs": [
    {
     "data": {
      "text/plain": [
       "<function __main__.async-def-wrapper.<locals>.SMU(original_func, name)>"
      ]
     },
     "execution_count": 1,
     "metadata": {},
     "output_type": "execute_result"
    }
   ],
   "source": [
    "def SMU(original_func,name):\n",
    "\n",
    "    def LyleSchool(name='Technology'):\n",
    "        print('This is a an engineering school')\n",
    "\n",
    "    def Perkins(name='Theology'):\n",
    "        print('Perkins school of theology')\n",
    "\n",
    "    def noneed():\n",
    "        print('No loop was needed')\n",
    "\n",
    "    if name == 'Technology':\n",
    "        original_func()\n",
    "        return LyleSchool\n",
    "    elif name == 'Theology': \n",
    "        original_func()\n",
    "        return Perkins\n",
    "    else:\n",
    "        original_func()\n",
    "        return noneed\n",
    "return SMU"
   ]
  },
  {
   "cell_type": "code",
   "execution_count": 2,
   "metadata": {},
   "outputs": [],
   "source": [
    "def Technical_Library_decorator():\n",
    "    print('This gets printed if we want technlogy from SMU, Stating Fondren as Main')\n",
    "\n",
    "def bridwell_needs_decorator():\n",
    "    print('Bridwell is Theology Library')\n",
    "    \n",
    "def bridwell_needs_decorator():\n",
    "    print('Bridwell is Theology Library')\n",
    "\n",
    "def called_value(name):\n",
    "    \n",
    "    if name == 'Technology':\n",
    "        my_func = SMU(Technical_Library_decorator, 'Technology')\n",
    "        return my_func()\n",
    "    elif name == 'Theology':\n",
    "        my_func = SMU(bridwell_needs_decorator, 'Theology')\n",
    "        return my_func()\n",
    "    else:\n",
    "        my_func = SMU(nothing_selected_decorator, '')\n",
    "        return my_func()\n"
   ]
  },
  {
   "cell_type": "code",
   "execution_count": 3,
   "metadata": {},
   "outputs": [],
   "source": [
    "def called_value(name):\n",
    "    \n",
    "    if name == 'Technology':\n",
    "        my_func = SMU(Technical_Library_decorator, 'Technology')\n",
    "        return my_func()\n",
    "    elif name == 'Theology':\n",
    "        my_func = SMU(bridwell_needs_decorator, 'Theology')\n",
    "        return my_func()\n",
    "    else:\n",
    "        my_func = SMU(nothing_selected_decorator, '')\n",
    "        return my_func()\n",
    "    "
   ]
  },
  {
   "cell_type": "code",
   "execution_count": 5,
   "metadata": {},
   "outputs": [
    {
     "name": "stdout",
     "output_type": "stream",
     "text": [
      "Bridwell is Theology Library\n",
      "Perkins school of theology\n"
     ]
    }
   ],
   "source": [
    "called_value('Theology')"
   ]
  },
  {
   "cell_type": "markdown",
   "metadata": {},
   "source": [
    "In above thing we would be changing values of Technology and everything will get the results"
   ]
  },
  {
   "cell_type": "markdown",
   "metadata": {},
   "source": [
    "## Basic E.g of wrapper"
   ]
  },
  {
   "cell_type": "code",
   "execution_count": 289,
   "metadata": {},
   "outputs": [],
   "source": [
    "def my_func(addedfunction):\n",
    "    def wrap_func():\n",
    "        print('Before printing')    \n",
    "        addedfunction()\n",
    "        \n",
    "    return wrap_func"
   ]
  },
  {
   "cell_type": "code",
   "execution_count": 290,
   "metadata": {},
   "outputs": [],
   "source": [
    "@my_func\n",
    "def bridwell_needs_decorator():\n",
    "    print('Bridwell is Theology Library')"
   ]
  },
  {
   "cell_type": "code",
   "execution_count": 291,
   "metadata": {},
   "outputs": [
    {
     "name": "stdout",
     "output_type": "stream",
     "text": [
      "Before printing\n",
      "Bridwell is Theology Library\n"
     ]
    }
   ],
   "source": [
    "bridwell_needs_decorator()"
   ]
  },
  {
   "cell_type": "code",
   "execution_count": 294,
   "metadata": {},
   "outputs": [],
   "source": [
    "def callingother(somefucn):\n",
    "    print('through some other function')\n",
    "    print(somefucn())"
   ]
  },
  {
   "cell_type": "code",
   "execution_count": 1,
   "metadata": {},
   "outputs": [
    {
     "name": "stdout",
     "output_type": "stream",
     "text": [
      "Help on built-in function hasattr in module builtins:\n",
      "\n",
      "hasattr(obj, name, /)\n",
      "    Return whether the object has an attribute with the given name.\n",
      "    \n",
      "    This is done by calling getattr(obj, name) and catching AttributeError.\n",
      "\n"
     ]
    }
   ],
   "source": [
    "help(hasattr)"
   ]
  },
  {
   "cell_type": "code",
   "execution_count": null,
   "metadata": {},
   "outputs": [],
   "source": []
  }
 ],
 "metadata": {
  "kernelspec": {
   "display_name": "Python 3",
   "language": "python",
   "name": "python3"
  },
  "language_info": {
   "codemirror_mode": {
    "name": "ipython",
    "version": 3
   },
   "file_extension": ".py",
   "mimetype": "text/x-python",
   "name": "python",
   "nbconvert_exporter": "python",
   "pygments_lexer": "ipython3",
   "version": "3.7.1"
  }
 },
 "nbformat": 4,
 "nbformat_minor": 2
}
